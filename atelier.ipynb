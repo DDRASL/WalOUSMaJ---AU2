{
 "cells": [
  {
   "cell_type": "markdown",
   "metadata": {},
   "source": [
    "# WalOUS MàJ\n",
    "## Atelier Utilisateurs #2\n",
    "\n",
    "Cet atelier a pour objectif d'illustrer les ..."
   ]
  },
  {
   "cell_type": "code",
   "execution_count": 1,
   "metadata": {},
   "outputs": [],
   "source": [
    "import geopandas as gpd\n",
    "import rasterio as rio\n",
    "import numpy as np"
   ]
  },
  {
   "cell_type": "code",
   "execution_count": 2,
   "metadata": {},
   "outputs": [
    {
     "name": "stdout",
     "output_type": "stream",
     "text": [
      "{'driver': 'GTiff', 'dtype': 'uint8', 'nodata': None, 'width': 260002, 'height': 150001, 'count': 1, 'crs': CRS.from_epsg(3812), 'transform': Affine(0.9999923077514788, 0.0, 540000.0,\n",
      "       0.0, -0.9999933333777775, 670000.0)}\n"
     ]
    }
   ],
   "source": [
    "walous_2019 = \"/home/ddr/workspace/walousupdate/WalOUS_OCS_2019_LB08_sievedwc.tif\"\n",
    "with rio.open(walous_2019) as r:\n",
    "    print(r.meta)"
   ]
  }
 ],
 "metadata": {
  "interpreter": {
   "hash": "05920e306328cfb868cdc2df4a5b85e171be7aa9f959574d130aaec5d9addf94"
  },
  "kernelspec": {
   "display_name": "Python 3.7.10 64-bit ('walous': conda)",
   "language": "python",
   "name": "python3"
  },
  "language_info": {
   "codemirror_mode": {
    "name": "ipython",
    "version": 3
   },
   "file_extension": ".py",
   "mimetype": "text/x-python",
   "name": "python",
   "nbconvert_exporter": "python",
   "pygments_lexer": "ipython3",
   "version": "3.7.10"
  },
  "orig_nbformat": 4
 },
 "nbformat": 4,
 "nbformat_minor": 2
}
